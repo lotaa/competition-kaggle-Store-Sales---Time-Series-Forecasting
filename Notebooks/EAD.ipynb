{
 "cells": [
  {
   "cell_type": "markdown",
   "id": "fa2504a0-6734-49ee-a1f3-1124e5625397",
   "metadata": {},
   "source": [
    "## EDA Plan of Attack\n",
    "- High level understanding of data (look at columns, nulls, shape, etc)\n",
    " - Understand relationship between columns (Multiple answer vs single answer)\n",
    " \n",
    " - Go through my process of learning to build model\n",
    "- Start understanding the question \"how feature effect on salary\""
   ]
  },
  {
   "cell_type": "code",
   "execution_count": 1,
   "id": "f27e9f7d-00f3-40ca-9332-034c69d8bc68",
   "metadata": {},
   "outputs": [],
   "source": [
    "# This Python 3 environment comes with many helpful analytics libraries installed\n",
    "# It is defined by the kaggle/python Docker image: https://github.com/kaggle/docker-python\n",
    "# For example, here's several helpful packages to load\n",
    "\n",
    "import pandas as pd \n",
    "import numpy as np\n",
    "import matplotlib.pyplot as plt #likley won't be used much as i'm experimenting with plotly \n",
    "import plotly.graph_objects as go #you will be learning how go and px work with me! \n",
    "import plotly.express as px \n",
    "import seaborn as sns\n",
    "from datetime import datetime\n",
    "pd.set_option('display.max_rows', 500)\n",
    "pd.set_option('display.max_columns', 500)\n",
    "\n",
    "# Input data files are available in the read-only \"../input/\" directory\n",
    "# For example, running this (by clicking run or pressing Shift+Enter) will list all files under the input directory\n",
    "# You can write up to 20GB to the current directory (/kaggle/working/) that gets preserved as output when you create a version using \"Save & Run All\" \n",
    "# You can also write temporary files to /kaggle/temp/, but they won't be saved outside of the current session"
   ]
  },
  {
   "cell_type": "code",
   "execution_count": 2,
   "id": "1cf9682c-d629-4219-8c88-c2e2a0f2a6e9",
   "metadata": {},
   "outputs": [],
   "source": [
    "#load data \n",
    "test = pd.read_csv(\"test.csv\")\n",
    "train = pd.read_csv(\"train.csv\")\n",
    "stores = pd.read_csv(\"stores.csv\")\n",
    "transactions = pd.read_csv(\"transactions.csv\")\n",
    "oil = pd.read_csv(\"oil.csv\")\n",
    "holiday_events = pd.read_csv(\"holidays_events.csv\")"
   ]
  },
  {
   "cell_type": "code",
   "execution_count": 3,
   "id": "f70a74e5-a130-4ef5-ab96-10e0ae6c6209",
   "metadata": {},
   "outputs": [],
   "source": [
    "#Merging all available datasets to perform exploratory data analysis\n",
    "d1=pd.merge(holiday_events,oil)\n",
    "d2=pd.merge(train,stores)\n",
    "d3=pd.merge(d2,transactions)\n",
    "df=pd.merge(d3,d1,on=\"date\")"
   ]
  },
  {
   "cell_type": "code",
   "execution_count": 35,
   "id": "4129b9b6-7a9b-4457-8d70-7289f0f0b733",
   "metadata": {},
   "outputs": [],
   "source": [
    "copy=pd.read_csv('test.csv')"
   ]
  },
  {
   "cell_type": "code",
   "execution_count": 5,
   "id": "275b730c-dc41-455e-9f53-bd91904b7253",
   "metadata": {},
   "outputs": [
    {
     "data": {
      "text/html": [
       "<div>\n",
       "<style scoped>\n",
       "    .dataframe tbody tr th:only-of-type {\n",
       "        vertical-align: middle;\n",
       "    }\n",
       "\n",
       "    .dataframe tbody tr th {\n",
       "        vertical-align: top;\n",
       "    }\n",
       "\n",
       "    .dataframe thead th {\n",
       "        text-align: right;\n",
       "    }\n",
       "</style>\n",
       "<table border=\"1\" class=\"dataframe\">\n",
       "  <thead>\n",
       "    <tr style=\"text-align: right;\">\n",
       "      <th></th>\n",
       "      <th>id</th>\n",
       "      <th>date</th>\n",
       "      <th>store_nbr</th>\n",
       "      <th>family</th>\n",
       "      <th>sales</th>\n",
       "      <th>onpromotion</th>\n",
       "      <th>city</th>\n",
       "      <th>state</th>\n",
       "      <th>type_x</th>\n",
       "      <th>cluster</th>\n",
       "      <th>transactions</th>\n",
       "      <th>type_y</th>\n",
       "      <th>locale</th>\n",
       "      <th>locale_name</th>\n",
       "      <th>description</th>\n",
       "      <th>transferred</th>\n",
       "      <th>dcoilwtico</th>\n",
       "    </tr>\n",
       "  </thead>\n",
       "  <tbody>\n",
       "    <tr>\n",
       "      <th>0</th>\n",
       "      <td>73062</td>\n",
       "      <td>2013-02-11</td>\n",
       "      <td>1</td>\n",
       "      <td>AUTOMOTIVE</td>\n",
       "      <td>0.0</td>\n",
       "      <td>0</td>\n",
       "      <td>Quito</td>\n",
       "      <td>Pichincha</td>\n",
       "      <td>D</td>\n",
       "      <td>13</td>\n",
       "      <td>396</td>\n",
       "      <td>Holiday</td>\n",
       "      <td>National</td>\n",
       "      <td>Ecuador</td>\n",
       "      <td>Carnaval</td>\n",
       "      <td>False</td>\n",
       "      <td>97.01</td>\n",
       "    </tr>\n",
       "    <tr>\n",
       "      <th>1</th>\n",
       "      <td>73063</td>\n",
       "      <td>2013-02-11</td>\n",
       "      <td>1</td>\n",
       "      <td>BABY CARE</td>\n",
       "      <td>0.0</td>\n",
       "      <td>0</td>\n",
       "      <td>Quito</td>\n",
       "      <td>Pichincha</td>\n",
       "      <td>D</td>\n",
       "      <td>13</td>\n",
       "      <td>396</td>\n",
       "      <td>Holiday</td>\n",
       "      <td>National</td>\n",
       "      <td>Ecuador</td>\n",
       "      <td>Carnaval</td>\n",
       "      <td>False</td>\n",
       "      <td>97.01</td>\n",
       "    </tr>\n",
       "    <tr>\n",
       "      <th>2</th>\n",
       "      <td>73064</td>\n",
       "      <td>2013-02-11</td>\n",
       "      <td>1</td>\n",
       "      <td>BEAUTY</td>\n",
       "      <td>0.0</td>\n",
       "      <td>0</td>\n",
       "      <td>Quito</td>\n",
       "      <td>Pichincha</td>\n",
       "      <td>D</td>\n",
       "      <td>13</td>\n",
       "      <td>396</td>\n",
       "      <td>Holiday</td>\n",
       "      <td>National</td>\n",
       "      <td>Ecuador</td>\n",
       "      <td>Carnaval</td>\n",
       "      <td>False</td>\n",
       "      <td>97.01</td>\n",
       "    </tr>\n",
       "    <tr>\n",
       "      <th>3</th>\n",
       "      <td>73065</td>\n",
       "      <td>2013-02-11</td>\n",
       "      <td>1</td>\n",
       "      <td>BEVERAGES</td>\n",
       "      <td>172.0</td>\n",
       "      <td>0</td>\n",
       "      <td>Quito</td>\n",
       "      <td>Pichincha</td>\n",
       "      <td>D</td>\n",
       "      <td>13</td>\n",
       "      <td>396</td>\n",
       "      <td>Holiday</td>\n",
       "      <td>National</td>\n",
       "      <td>Ecuador</td>\n",
       "      <td>Carnaval</td>\n",
       "      <td>False</td>\n",
       "      <td>97.01</td>\n",
       "    </tr>\n",
       "    <tr>\n",
       "      <th>4</th>\n",
       "      <td>73066</td>\n",
       "      <td>2013-02-11</td>\n",
       "      <td>1</td>\n",
       "      <td>BOOKS</td>\n",
       "      <td>0.0</td>\n",
       "      <td>0</td>\n",
       "      <td>Quito</td>\n",
       "      <td>Pichincha</td>\n",
       "      <td>D</td>\n",
       "      <td>13</td>\n",
       "      <td>396</td>\n",
       "      <td>Holiday</td>\n",
       "      <td>National</td>\n",
       "      <td>Ecuador</td>\n",
       "      <td>Carnaval</td>\n",
       "      <td>False</td>\n",
       "      <td>97.01</td>\n",
       "    </tr>\n",
       "  </tbody>\n",
       "</table>\n",
       "</div>"
      ],
      "text/plain": [
       "      id        date  store_nbr      family  sales  onpromotion   city  \\\n",
       "0  73062  2013-02-11          1  AUTOMOTIVE    0.0            0  Quito   \n",
       "1  73063  2013-02-11          1   BABY CARE    0.0            0  Quito   \n",
       "2  73064  2013-02-11          1      BEAUTY    0.0            0  Quito   \n",
       "3  73065  2013-02-11          1   BEVERAGES  172.0            0  Quito   \n",
       "4  73066  2013-02-11          1       BOOKS    0.0            0  Quito   \n",
       "\n",
       "       state type_x  cluster  transactions   type_y    locale locale_name  \\\n",
       "0  Pichincha      D       13           396  Holiday  National     Ecuador   \n",
       "1  Pichincha      D       13           396  Holiday  National     Ecuador   \n",
       "2  Pichincha      D       13           396  Holiday  National     Ecuador   \n",
       "3  Pichincha      D       13           396  Holiday  National     Ecuador   \n",
       "4  Pichincha      D       13           396  Holiday  National     Ecuador   \n",
       "\n",
       "  description  transferred  dcoilwtico  \n",
       "0    Carnaval        False       97.01  \n",
       "1    Carnaval        False       97.01  \n",
       "2    Carnaval        False       97.01  \n",
       "3    Carnaval        False       97.01  \n",
       "4    Carnaval        False       97.01  "
      ]
     },
     "execution_count": 5,
     "metadata": {},
     "output_type": "execute_result"
    }
   ],
   "source": [
    "df.head()"
   ]
  },
  {
   "cell_type": "code",
   "execution_count": 6,
   "id": "18f6ae9b-9cd5-4b72-afa4-7929f26d4766",
   "metadata": {},
   "outputs": [
    {
     "data": {
      "text/plain": [
       "(322047, 17)"
      ]
     },
     "execution_count": 6,
     "metadata": {},
     "output_type": "execute_result"
    }
   ],
   "source": [
    "#Shape of data\n",
    "df.shape"
   ]
  },
  {
   "cell_type": "code",
   "execution_count": 7,
   "id": "836c027a-ff44-421d-b428-9640a0f457f8",
   "metadata": {},
   "outputs": [
    {
     "data": {
      "text/html": [
       "<div>\n",
       "<style scoped>\n",
       "    .dataframe tbody tr th:only-of-type {\n",
       "        vertical-align: middle;\n",
       "    }\n",
       "\n",
       "    .dataframe tbody tr th {\n",
       "        vertical-align: top;\n",
       "    }\n",
       "\n",
       "    .dataframe thead th {\n",
       "        text-align: right;\n",
       "    }\n",
       "</style>\n",
       "<table border=\"1\" class=\"dataframe\">\n",
       "  <thead>\n",
       "    <tr style=\"text-align: right;\">\n",
       "      <th></th>\n",
       "      <th>id</th>\n",
       "      <th>store_nbr</th>\n",
       "      <th>sales</th>\n",
       "      <th>onpromotion</th>\n",
       "      <th>cluster</th>\n",
       "      <th>transactions</th>\n",
       "      <th>dcoilwtico</th>\n",
       "    </tr>\n",
       "  </thead>\n",
       "  <tbody>\n",
       "    <tr>\n",
       "      <th>count</th>\n",
       "      <td>3.220470e+05</td>\n",
       "      <td>322047.000000</td>\n",
       "      <td>322047.000000</td>\n",
       "      <td>322047.000000</td>\n",
       "      <td>322047.000000</td>\n",
       "      <td>322047.000000</td>\n",
       "      <td>300003.000000</td>\n",
       "    </tr>\n",
       "    <tr>\n",
       "      <th>mean</th>\n",
       "      <td>1.682979e+06</td>\n",
       "      <td>26.994672</td>\n",
       "      <td>406.383452</td>\n",
       "      <td>3.727136</td>\n",
       "      <td>8.531202</td>\n",
       "      <td>1734.117840</td>\n",
       "      <td>64.077912</td>\n",
       "    </tr>\n",
       "    <tr>\n",
       "      <th>std</th>\n",
       "      <td>7.862493e+05</td>\n",
       "      <td>15.595174</td>\n",
       "      <td>1246.881240</td>\n",
       "      <td>15.512095</td>\n",
       "      <td>4.713809</td>\n",
       "      <td>1050.335018</td>\n",
       "      <td>25.147682</td>\n",
       "    </tr>\n",
       "    <tr>\n",
       "      <th>min</th>\n",
       "      <td>5.610000e+02</td>\n",
       "      <td>1.000000</td>\n",
       "      <td>0.000000</td>\n",
       "      <td>0.000000</td>\n",
       "      <td>1.000000</td>\n",
       "      <td>54.000000</td>\n",
       "      <td>27.960000</td>\n",
       "    </tr>\n",
       "    <tr>\n",
       "      <th>25%</th>\n",
       "      <td>1.010616e+06</td>\n",
       "      <td>13.000000</td>\n",
       "      <td>1.000000</td>\n",
       "      <td>0.000000</td>\n",
       "      <td>4.000000</td>\n",
       "      <td>1030.000000</td>\n",
       "      <td>44.660000</td>\n",
       "    </tr>\n",
       "    <tr>\n",
       "      <th>50%</th>\n",
       "      <td>1.842406e+06</td>\n",
       "      <td>27.000000</td>\n",
       "      <td>19.000000</td>\n",
       "      <td>0.000000</td>\n",
       "      <td>9.000000</td>\n",
       "      <td>1409.000000</td>\n",
       "      <td>51.440000</td>\n",
       "    </tr>\n",
       "    <tr>\n",
       "      <th>75%</th>\n",
       "      <td>2.209556e+06</td>\n",
       "      <td>40.000000</td>\n",
       "      <td>241.260505</td>\n",
       "      <td>1.000000</td>\n",
       "      <td>13.000000</td>\n",
       "      <td>2148.000000</td>\n",
       "      <td>94.740000</td>\n",
       "    </tr>\n",
       "    <tr>\n",
       "      <th>max</th>\n",
       "      <td>3.000887e+06</td>\n",
       "      <td>54.000000</td>\n",
       "      <td>124717.000000</td>\n",
       "      <td>716.000000</td>\n",
       "      <td>17.000000</td>\n",
       "      <td>8359.000000</td>\n",
       "      <td>107.950000</td>\n",
       "    </tr>\n",
       "  </tbody>\n",
       "</table>\n",
       "</div>"
      ],
      "text/plain": [
       "                 id      store_nbr          sales    onpromotion  \\\n",
       "count  3.220470e+05  322047.000000  322047.000000  322047.000000   \n",
       "mean   1.682979e+06      26.994672     406.383452       3.727136   \n",
       "std    7.862493e+05      15.595174    1246.881240      15.512095   \n",
       "min    5.610000e+02       1.000000       0.000000       0.000000   \n",
       "25%    1.010616e+06      13.000000       1.000000       0.000000   \n",
       "50%    1.842406e+06      27.000000      19.000000       0.000000   \n",
       "75%    2.209556e+06      40.000000     241.260505       1.000000   \n",
       "max    3.000887e+06      54.000000  124717.000000     716.000000   \n",
       "\n",
       "             cluster   transactions     dcoilwtico  \n",
       "count  322047.000000  322047.000000  300003.000000  \n",
       "mean        8.531202    1734.117840      64.077912  \n",
       "std         4.713809    1050.335018      25.147682  \n",
       "min         1.000000      54.000000      27.960000  \n",
       "25%         4.000000    1030.000000      44.660000  \n",
       "50%         9.000000    1409.000000      51.440000  \n",
       "75%        13.000000    2148.000000      94.740000  \n",
       "max        17.000000    8359.000000     107.950000  "
      ]
     },
     "execution_count": 7,
     "metadata": {},
     "output_type": "execute_result"
    }
   ],
   "source": [
    "#more of statistical \n",
    "df.describe()"
   ]
  },
  {
   "cell_type": "code",
   "execution_count": 8,
   "id": "c713e1c1-c095-4bc3-ab20-f61c4dfa242c",
   "metadata": {},
   "outputs": [
    {
     "name": "stdout",
     "output_type": "stream",
     "text": [
      "<class 'pandas.core.frame.DataFrame'>\n",
      "Int64Index: 322047 entries, 0 to 322046\n",
      "Data columns (total 17 columns):\n",
      " #   Column        Non-Null Count   Dtype  \n",
      "---  ------        --------------   -----  \n",
      " 0   id            322047 non-null  int64  \n",
      " 1   date          322047 non-null  object \n",
      " 2   store_nbr     322047 non-null  int64  \n",
      " 3   family        322047 non-null  object \n",
      " 4   sales         322047 non-null  float64\n",
      " 5   onpromotion   322047 non-null  int64  \n",
      " 6   city          322047 non-null  object \n",
      " 7   state         322047 non-null  object \n",
      " 8   type_x        322047 non-null  object \n",
      " 9   cluster       322047 non-null  int64  \n",
      " 10  transactions  322047 non-null  int64  \n",
      " 11  type_y        322047 non-null  object \n",
      " 12  locale        322047 non-null  object \n",
      " 13  locale_name   322047 non-null  object \n",
      " 14  description   322047 non-null  object \n",
      " 15  transferred   322047 non-null  bool   \n",
      " 16  dcoilwtico    300003 non-null  float64\n",
      "dtypes: bool(1), float64(2), int64(5), object(9)\n",
      "memory usage: 42.1+ MB\n"
     ]
    }
   ],
   "source": [
    "df.info()"
   ]
  },
  {
   "cell_type": "code",
   "execution_count": 9,
   "id": "4254aac6-0c66-4b7d-a93e-fa69fdb528d7",
   "metadata": {},
   "outputs": [
    {
     "data": {
      "text/plain": [
       "id                  0\n",
       "date                0\n",
       "store_nbr           0\n",
       "family              0\n",
       "sales               0\n",
       "onpromotion         0\n",
       "city                0\n",
       "state               0\n",
       "type_x              0\n",
       "cluster             0\n",
       "transactions        0\n",
       "type_y              0\n",
       "locale              0\n",
       "locale_name         0\n",
       "description         0\n",
       "transferred         0\n",
       "dcoilwtico      22044\n",
       "dtype: int64"
      ]
     },
     "execution_count": 9,
     "metadata": {},
     "output_type": "execute_result"
    }
   ],
   "source": [
    "# check Nullvalues\n",
    "df.isnull().sum()"
   ]
  },
  {
   "cell_type": "code",
   "execution_count": 10,
   "id": "474c1cab-4818-43c3-9e8b-833be78b1ca4",
   "metadata": {},
   "outputs": [
    {
     "data": {
      "text/plain": [
       "False"
      ]
     },
     "execution_count": 10,
     "metadata": {},
     "output_type": "execute_result"
    }
   ],
   "source": [
    "## Let's see the so called duplicate rows \n",
    "\n",
    "df.duplicated().values.any()"
   ]
  },
  {
   "cell_type": "code",
   "execution_count": 11,
   "id": "4e8f85b6-9087-4f6f-a5a2-d63abf86c4b1",
   "metadata": {},
   "outputs": [
    {
     "data": {
      "text/plain": [
       "Index(['id', 'date', 'store_nbr', 'family', 'sales', 'onpromotion', 'city',\n",
       "       'state', 'type_x', 'cluster', 'transactions', 'type_y', 'locale',\n",
       "       'locale_name', 'description', 'transferred', 'dcoilwtico'],\n",
       "      dtype='object')"
      ]
     },
     "execution_count": 11,
     "metadata": {},
     "output_type": "execute_result"
    }
   ],
   "source": [
    "df.columns"
   ]
  },
  {
   "cell_type": "markdown",
   "id": "4a47164f-fe92-44a1-a3ca-a4ee790e06ec",
   "metadata": {},
   "source": [
    "## issus \n",
    " - date is float convert to date type\n",
    " - dcoilwtico rename into \"daily_oil_prices_column\"\n",
    " - store_nbr rename into \"Store_no\" \n",
    " - onpromotion  rename into \"no_item_promoted\"\n"
   ]
  },
  {
   "cell_type": "code",
   "execution_count": 12,
   "id": "df14f37b-22de-4949-9c2f-078e5e409404",
   "metadata": {},
   "outputs": [],
   "source": [
    "# rename columns\n",
    "df.rename(columns={'dcoilwtico': 'daily_oil_prices', 'store_nbr': 'Store_no','onpromotion':'no_item_promoted'}, inplace=True)"
   ]
  },
  {
   "cell_type": "code",
   "execution_count": 13,
   "id": "b1c31be8-b467-487d-9f3b-f85eb556897f",
   "metadata": {},
   "outputs": [
    {
     "data": {
      "text/html": [
       "<div>\n",
       "<style scoped>\n",
       "    .dataframe tbody tr th:only-of-type {\n",
       "        vertical-align: middle;\n",
       "    }\n",
       "\n",
       "    .dataframe tbody tr th {\n",
       "        vertical-align: top;\n",
       "    }\n",
       "\n",
       "    .dataframe thead th {\n",
       "        text-align: right;\n",
       "    }\n",
       "</style>\n",
       "<table border=\"1\" class=\"dataframe\">\n",
       "  <thead>\n",
       "    <tr style=\"text-align: right;\">\n",
       "      <th></th>\n",
       "      <th>id</th>\n",
       "      <th>date</th>\n",
       "      <th>Store_no</th>\n",
       "      <th>family</th>\n",
       "      <th>sales</th>\n",
       "      <th>no_item_promoted</th>\n",
       "      <th>city</th>\n",
       "      <th>state</th>\n",
       "      <th>type_x</th>\n",
       "      <th>cluster</th>\n",
       "      <th>transactions</th>\n",
       "      <th>type_y</th>\n",
       "      <th>locale</th>\n",
       "      <th>locale_name</th>\n",
       "      <th>description</th>\n",
       "      <th>transferred</th>\n",
       "      <th>daily_oil_prices</th>\n",
       "    </tr>\n",
       "  </thead>\n",
       "  <tbody>\n",
       "    <tr>\n",
       "      <th>0</th>\n",
       "      <td>73062</td>\n",
       "      <td>2013-02-11</td>\n",
       "      <td>1</td>\n",
       "      <td>AUTOMOTIVE</td>\n",
       "      <td>0.0</td>\n",
       "      <td>0</td>\n",
       "      <td>Quito</td>\n",
       "      <td>Pichincha</td>\n",
       "      <td>D</td>\n",
       "      <td>13</td>\n",
       "      <td>396</td>\n",
       "      <td>Holiday</td>\n",
       "      <td>National</td>\n",
       "      <td>Ecuador</td>\n",
       "      <td>Carnaval</td>\n",
       "      <td>False</td>\n",
       "      <td>97.01</td>\n",
       "    </tr>\n",
       "    <tr>\n",
       "      <th>1</th>\n",
       "      <td>73063</td>\n",
       "      <td>2013-02-11</td>\n",
       "      <td>1</td>\n",
       "      <td>BABY CARE</td>\n",
       "      <td>0.0</td>\n",
       "      <td>0</td>\n",
       "      <td>Quito</td>\n",
       "      <td>Pichincha</td>\n",
       "      <td>D</td>\n",
       "      <td>13</td>\n",
       "      <td>396</td>\n",
       "      <td>Holiday</td>\n",
       "      <td>National</td>\n",
       "      <td>Ecuador</td>\n",
       "      <td>Carnaval</td>\n",
       "      <td>False</td>\n",
       "      <td>97.01</td>\n",
       "    </tr>\n",
       "    <tr>\n",
       "      <th>2</th>\n",
       "      <td>73064</td>\n",
       "      <td>2013-02-11</td>\n",
       "      <td>1</td>\n",
       "      <td>BEAUTY</td>\n",
       "      <td>0.0</td>\n",
       "      <td>0</td>\n",
       "      <td>Quito</td>\n",
       "      <td>Pichincha</td>\n",
       "      <td>D</td>\n",
       "      <td>13</td>\n",
       "      <td>396</td>\n",
       "      <td>Holiday</td>\n",
       "      <td>National</td>\n",
       "      <td>Ecuador</td>\n",
       "      <td>Carnaval</td>\n",
       "      <td>False</td>\n",
       "      <td>97.01</td>\n",
       "    </tr>\n",
       "    <tr>\n",
       "      <th>3</th>\n",
       "      <td>73065</td>\n",
       "      <td>2013-02-11</td>\n",
       "      <td>1</td>\n",
       "      <td>BEVERAGES</td>\n",
       "      <td>172.0</td>\n",
       "      <td>0</td>\n",
       "      <td>Quito</td>\n",
       "      <td>Pichincha</td>\n",
       "      <td>D</td>\n",
       "      <td>13</td>\n",
       "      <td>396</td>\n",
       "      <td>Holiday</td>\n",
       "      <td>National</td>\n",
       "      <td>Ecuador</td>\n",
       "      <td>Carnaval</td>\n",
       "      <td>False</td>\n",
       "      <td>97.01</td>\n",
       "    </tr>\n",
       "    <tr>\n",
       "      <th>4</th>\n",
       "      <td>73066</td>\n",
       "      <td>2013-02-11</td>\n",
       "      <td>1</td>\n",
       "      <td>BOOKS</td>\n",
       "      <td>0.0</td>\n",
       "      <td>0</td>\n",
       "      <td>Quito</td>\n",
       "      <td>Pichincha</td>\n",
       "      <td>D</td>\n",
       "      <td>13</td>\n",
       "      <td>396</td>\n",
       "      <td>Holiday</td>\n",
       "      <td>National</td>\n",
       "      <td>Ecuador</td>\n",
       "      <td>Carnaval</td>\n",
       "      <td>False</td>\n",
       "      <td>97.01</td>\n",
       "    </tr>\n",
       "  </tbody>\n",
       "</table>\n",
       "</div>"
      ],
      "text/plain": [
       "      id        date  Store_no      family  sales  no_item_promoted   city  \\\n",
       "0  73062  2013-02-11         1  AUTOMOTIVE    0.0                 0  Quito   \n",
       "1  73063  2013-02-11         1   BABY CARE    0.0                 0  Quito   \n",
       "2  73064  2013-02-11         1      BEAUTY    0.0                 0  Quito   \n",
       "3  73065  2013-02-11         1   BEVERAGES  172.0                 0  Quito   \n",
       "4  73066  2013-02-11         1       BOOKS    0.0                 0  Quito   \n",
       "\n",
       "       state type_x  cluster  transactions   type_y    locale locale_name  \\\n",
       "0  Pichincha      D       13           396  Holiday  National     Ecuador   \n",
       "1  Pichincha      D       13           396  Holiday  National     Ecuador   \n",
       "2  Pichincha      D       13           396  Holiday  National     Ecuador   \n",
       "3  Pichincha      D       13           396  Holiday  National     Ecuador   \n",
       "4  Pichincha      D       13           396  Holiday  National     Ecuador   \n",
       "\n",
       "  description  transferred  daily_oil_prices  \n",
       "0    Carnaval        False             97.01  \n",
       "1    Carnaval        False             97.01  \n",
       "2    Carnaval        False             97.01  \n",
       "3    Carnaval        False             97.01  \n",
       "4    Carnaval        False             97.01  "
      ]
     },
     "execution_count": 13,
     "metadata": {},
     "output_type": "execute_result"
    }
   ],
   "source": [
    "#check\n",
    "df.head()"
   ]
  },
  {
   "cell_type": "code",
   "execution_count": 14,
   "id": "64a90b86-0a40-4881-bccc-66281243e564",
   "metadata": {},
   "outputs": [],
   "source": [
    "#replace null values with the mean daily oil prices\n",
    "df.loc[(df.daily_oil_prices.isnull()),'daily_oil_prices']=df.daily_oil_prices.mean()"
   ]
  },
  {
   "cell_type": "code",
   "execution_count": 15,
   "id": "a03d3d8e-7628-4c49-a7fc-34c7eb28f5d7",
   "metadata": {},
   "outputs": [
    {
     "data": {
      "text/plain": [
       "0"
      ]
     },
     "execution_count": 15,
     "metadata": {},
     "output_type": "execute_result"
    }
   ],
   "source": [
    "#check nulls\n",
    "df.daily_oil_prices.isnull().sum()"
   ]
  },
  {
   "cell_type": "code",
   "execution_count": 16,
   "id": "0cd6f5fb-b2ec-42ad-b649-a763e054cd7d",
   "metadata": {},
   "outputs": [],
   "source": [
    "#Converting the date column from string to datetime dtype.\n",
    "df['date']=pd.to_datetime(df['date'],format='%Y-%m-%d',errors='coerce')"
   ]
  },
  {
   "cell_type": "code",
   "execution_count": 17,
   "id": "6fa8f77e-85a6-49f5-83e0-5faa627eec46",
   "metadata": {},
   "outputs": [
    {
     "name": "stdout",
     "output_type": "stream",
     "text": [
      "<class 'pandas.core.frame.DataFrame'>\n",
      "Int64Index: 322047 entries, 0 to 322046\n",
      "Data columns (total 17 columns):\n",
      " #   Column            Non-Null Count   Dtype         \n",
      "---  ------            --------------   -----         \n",
      " 0   id                322047 non-null  int64         \n",
      " 1   date              322047 non-null  datetime64[ns]\n",
      " 2   Store_no          322047 non-null  int64         \n",
      " 3   family            322047 non-null  object        \n",
      " 4   sales             322047 non-null  float64       \n",
      " 5   no_item_promoted  322047 non-null  int64         \n",
      " 6   city              322047 non-null  object        \n",
      " 7   state             322047 non-null  object        \n",
      " 8   type_x            322047 non-null  object        \n",
      " 9   cluster           322047 non-null  int64         \n",
      " 10  transactions      322047 non-null  int64         \n",
      " 11  type_y            322047 non-null  object        \n",
      " 12  locale            322047 non-null  object        \n",
      " 13  locale_name       322047 non-null  object        \n",
      " 14  description       322047 non-null  object        \n",
      " 15  transferred       322047 non-null  bool          \n",
      " 16  daily_oil_prices  322047 non-null  float64       \n",
      "dtypes: bool(1), datetime64[ns](1), float64(2), int64(5), object(8)\n",
      "memory usage: 42.1+ MB\n"
     ]
    }
   ],
   "source": [
    "#check \n",
    "df.info()"
   ]
  },
  {
   "cell_type": "code",
   "execution_count": 18,
   "id": "13adf620-2ea5-493e-917a-e822ebb556ae",
   "metadata": {},
   "outputs": [
    {
     "data": {
      "text/plain": [
       "array(['AUTOMOTIVE', 'BABY CARE', 'BEAUTY', 'BEVERAGES', 'BOOKS',\n",
       "       'BREAD/BAKERY', 'CELEBRATION', 'CLEANING', 'DAIRY', 'DELI', 'EGGS',\n",
       "       'FROZEN FOODS', 'GROCERY I', 'GROCERY II', 'HARDWARE',\n",
       "       'HOME AND KITCHEN I', 'HOME AND KITCHEN II', 'HOME APPLIANCES',\n",
       "       'HOME CARE', 'LADIESWEAR', 'LAWN AND GARDEN', 'LINGERIE',\n",
       "       'LIQUOR,WINE,BEER', 'MAGAZINES', 'MEATS', 'PERSONAL CARE',\n",
       "       'PET SUPPLIES', 'PLAYERS AND ELECTRONICS', 'POULTRY',\n",
       "       'PREPARED FOODS', 'PRODUCE', 'SCHOOL AND OFFICE SUPPLIES',\n",
       "       'SEAFOOD'], dtype=object)"
      ]
     },
     "execution_count": 18,
     "metadata": {},
     "output_type": "execute_result"
    }
   ],
   "source": [
    "#unique values 'family' categories.\n",
    "df['family'].unique()"
   ]
  },
  {
   "cell_type": "code",
   "execution_count": 19,
   "id": "de766953-0864-46b0-8a77-5e2deec842c4",
   "metadata": {},
   "outputs": [],
   "source": [
    "df['family'].replace(['AUTOMOTIVE', 'HARDWARE', 'LAWN AND GARDEN', 'PLAYERS AND ELECTRONICS'], 'Tools', inplace = True)\n",
    "\n",
    "df['family'].replace(['BEAUTY', 'LINGERIE', 'LADIESWEAR','PERSONAL CARE','CELEBRATION','MAGAZINES','BOOKS', 'BABY CARE'], 'LifeStyle', inplace = True)\n",
    "\n",
    "df['family'].replace(['HOME APPLIANCES','HOME AND KITCHEN I', 'HOME AND KITCHEN II','HOME CARE','SCHOOL AND OFFICE SUPPLIES'], 'Home', inplace=True)\n",
    "\n",
    "df['family'].replace([ 'GROCERY II', 'PET SUPPLIES','SEAFOOD','LIQUOR,WINE,BEER'], 'Food', inplace=True)\n",
    "\n",
    "df['family'].replace(['DELI', 'EGGS'], 'Daily', inplace=True)"
   ]
  },
  {
   "cell_type": "code",
   "execution_count": 20,
   "id": "e6d54781-8a27-4f49-a06d-a578ba9fed9b",
   "metadata": {},
   "outputs": [
    {
     "data": {
      "text/plain": [
       "<AxesSubplot:xlabel='family'>"
      ]
     },
     "execution_count": 20,
     "metadata": {},
     "output_type": "execute_result"
    },
    {
     "data": {
      "image/png": "[encoded data removed]",
      "text/plain": [
       "<Figure size 1080x504 with 1 Axes>"
      ]
     },
     "metadata": {
      "needs_background": "light"
     },
     "output_type": "display_data"
    }
   ],
   "source": [
    "base_color = sns.color_palette()[0]\n",
    "\n",
    "fig, ax = plt.subplots(figsize=(15,7))\n",
    "df.groupby(\"family\").sum()['sales'].plot(kind='bar')"
   ]
  },
  {
   "cell_type": "code",
   "execution_count": 21,
   "id": "bdaf9a22-a16f-4ffa-8e22-40761ec0808b",
   "metadata": {},
   "outputs": [
    {
     "data": {
      "text/plain": [
       "<AxesSubplot:xlabel='date', ylabel='sales'>"
      ]
     },
     "execution_count": 21,
     "metadata": {},
     "output_type": "execute_result"
    },
    {
     "data": {
      "image/png": "[encoded data removed]",
      "text/plain": [
       "<Figure size 432x288 with 1 Axes>"
      ]
     },
     "metadata": {
      "needs_background": "light"
     },
     "output_type": "display_data"
    }
   ],
   "source": [
    "sns.lineplot(x='date',y='sales',data=df,ci=None,estimator='mean')"
   ]
  },
  {
   "cell_type": "code",
   "execution_count": 22,
   "id": "4b36e669-7d86-42ca-9908-b8f82ded585e",
   "metadata": {},
   "outputs": [
    {
     "data": {
      "text/plain": [
       "Text(0.5, 1.0, ' RelactionShip Between City and Sales ')"
      ]
     },
     "execution_count": 22,
     "metadata": {},
     "output_type": "execute_result"
    },
    {
     "data": {
      "image/png": "[encoded data removed]",
      "text/plain": [
       "<Figure size 432x288 with 1 Axes>"
      ]
     },
     "metadata": {
      "needs_background": "light"
     },
     "output_type": "display_data"
    }
   ],
   "source": [
    "group=pd.DataFrame(df.groupby(['city'])['sales'].mean().sort_values(ascending=False))\n",
    "\n",
    "sns.barplot(x='sales',y=group.index,data=group,\n",
    "            palette=\"Blues_d\",ci=90)\n",
    "plt.xlabel(\" City \")\n",
    "plt.xlabel(\" Sales \")\n",
    "plt.title(\" RelactionShip Between City and Sales \")"
   ]
  },
  {
   "cell_type": "markdown",
   "id": "c4d6c7b0-3501-431d-9988-b0821a690a41",
   "metadata": {},
   "source": [
    "Quito is most sales\n",
    "and Playas is less sales\n"
   ]
  },
  {
   "cell_type": "code",
   "execution_count": 23,
   "id": "d9fae557-42b5-47ec-9e36-f2aa29fe38aa",
   "metadata": {},
   "outputs": [
    {
     "data": {
      "text/plain": [
       "Quito            112266\n",
       "Guayaquil         47784\n",
       "Santo Domingo     16104\n",
       "Cuenca            16005\n",
       "Ambato            12804\n",
       "Machala           12804\n",
       "Latacunga         12606\n",
       "Cayambe            6402\n",
       "El Carmen          6402\n",
       "Daule              6402\n",
       "Name: city, dtype: int64"
      ]
     },
     "execution_count": 23,
     "metadata": {},
     "output_type": "execute_result"
    }
   ],
   "source": [
    "df['city'].value_counts()[:10]"
   ]
  },
  {
   "cell_type": "code",
   "execution_count": 24,
   "id": "3d864ceb-2bae-4aab-853e-b5cc4d990f4b",
   "metadata": {},
   "outputs": [
    {
     "data": {
      "text/plain": [
       "Text(0.5, 1.0, ' RelactionShip Between locale and Sales ')"
      ]
     },
     "execution_count": 24,
     "metadata": {},
     "output_type": "execute_result"
    },
    {
     "data": {
      "image/png": "[encoded data removed]",
      "text/plain": [
       "<Figure size 432x288 with 1 Axes>"
      ]
     },
     "metadata": {
      "needs_background": "light"
     },
     "output_type": "display_data"
    }
   ],
   "source": [
    "group=pd.DataFrame(df.groupby(['locale'])['sales'].mean().sort_values(ascending=False))\n",
    "sns.barplot(x=group.index,y='sales',orient = 'v',color=\"salmon\",data=group)\n",
    "plt.xlabel(\" locale \")\n",
    "plt.xlabel(\" Sales \")\n",
    "plt.title(\" RelactionShip Between locale and Sales \")"
   ]
  },
  {
   "cell_type": "code",
   "execution_count": 25,
   "id": "13321ed5-0069-41bd-98dc-7858e0904bf5",
   "metadata": {},
   "outputs": [
    {
     "data": {
      "text/plain": [
       "Pichincha                         118668\n",
       "Guayas                             66825\n",
       "Santo Domingo de los Tsachilas     16104\n",
       "Azuay                              16005\n",
       "El Oro                             12804\n",
       "Tungurahua                         12804\n",
       "Los Rios                           12804\n",
       "Cotopaxi                           12606\n",
       "Manabi                             11979\n",
       "Imbabura                            6402\n",
       "Name: state, dtype: int64"
      ]
     },
     "execution_count": 25,
     "metadata": {},
     "output_type": "execute_result"
    }
   ],
   "source": [
    "df['state'].value_counts()[:10]"
   ]
  },
  {
   "cell_type": "code",
   "execution_count": 26,
   "id": "bf5abb38-c024-4441-929f-c1da245ba0bb",
   "metadata": {},
   "outputs": [
    {
     "data": {
      "text/plain": [
       "'\\nsns.catplot(x=\\'state\\',y=\\'family\\',kind=\"swarm\",color=\"salmon\",data=df)\\nplt.xlabel(\" state \")\\nplt.xlabel(\" family \")\\nplt.title(\" RelactionShip Between family and State \")'"
      ]
     },
     "execution_count": 26,
     "metadata": {},
     "output_type": "execute_result"
    }
   ],
   "source": [
    "#relasionshipe between state and family\n",
    "\"\"\"\n",
    "sns.catplot(x='state',y='family',kind=\"swarm\",color=\"salmon\",data=df)\n",
    "plt.xlabel(\" state \")\n",
    "plt.xlabel(\" family \")\n",
    "plt.title(\" RelactionShip Between family and State \")\"\"\""
   ]
  },
  {
   "cell_type": "code",
   "execution_count": 27,
   "id": "37a56e85-be08-4108-b380-93ded0518175",
   "metadata": {},
   "outputs": [
    {
     "name": "stderr",
     "output_type": "stream",
     "text": [
      "C:\\Users\\Omnia Hosny\\anaconda3\\lib\\site-packages\\seaborn\\_decorators.py:36: FutureWarning: Pass the following variable as a keyword arg: x. From version 0.12, the only valid positional argument will be `data`, and passing other arguments without an explicit keyword will result in an error or misinterpretation.\n",
      "  warnings.warn(\n"
     ]
    },
    {
     "data": {
      "text/plain": [
       "Text(0.5, 1.0, ' RelactionShip Between locale and Sales ')"
      ]
     },
     "execution_count": 27,
     "metadata": {},
     "output_type": "execute_result"
    },
    {
     "data": {
      "image/png": "[encoded data removed]",
      "text/plain": [
       "<Figure size 1800x1080 with 1 Axes>"
      ]
     },
     "metadata": {
      "needs_background": "light"
     },
     "output_type": "display_data"
    }
   ],
   "source": [
    "group=pd.DataFrame(df.groupby(['Store_no'])['sales'].mean().sort_values(ascending=False))\n",
    "ax,f=plt.subplots(figsize=(25,15))\n",
    "sns.barplot(group.index,y='sales',data=group,ax=None,ci=None, palette=\"Blues_d\",order=group.index)\n",
    "plt.xlabel(\" store number \")\n",
    "plt.xlabel(\" Sales \")\n",
    "plt.title(\" RelactionShip Between locale and Sales \")\n"
   ]
  },
  {
   "cell_type": "code",
   "execution_count": 28,
   "id": "136bbda6-e6e5-4849-9679-8aaf742481ad",
   "metadata": {},
   "outputs": [
    {
     "data": {
      "text/plain": [
       "Text(0.5, 1.0, ' RelactionShip Between transferred and transactions')"
      ]
     },
     "execution_count": 28,
     "metadata": {},
     "output_type": "execute_result"
    },
    {
     "data": {
      "image/png": "[encoded data removed]",
      "text/plain": [
       "<Figure size 432x288 with 1 Axes>"
      ]
     },
     "metadata": {
      "needs_background": "light"
     },
     "output_type": "display_data"
    }
   ],
   "source": [
    "sns.barplot(x='transferred',y='transactions',data=df)\n",
    "plt.xlabel(\" Transferred \")\n",
    "plt.xlabel(\" Transactions \")\n",
    "plt.title(\" RelactionShip Between transferred and transactions\")"
   ]
  },
  {
   "cell_type": "markdown",
   "id": "a77e6da6-7916-4ffe-8adc-2f6af0464fd8",
   "metadata": {},
   "source": [
    "# baseModel"
   ]
  },
  {
   "cell_type": "code",
   "execution_count": 29,
   "id": "5d89b2fb-b96b-49ee-856b-8e3a6634cc2f",
   "metadata": {},
   "outputs": [],
   "source": [
    "#splitting the train dataset into train and test\n",
    "\n",
    "from sklearn.model_selection import train_test_split\n",
    "\n",
    "X_train, X_test, y_train, y_test = train_test_split(train.loc[:, train.columns != 'sales'], train['sales'], test_size=0.33, random_state=42)"
   ]
  },
  {
   "cell_type": "code",
   "execution_count": 30,
   "id": "b9200d5e-b745-40f9-88a1-774512aaf28e",
   "metadata": {},
   "outputs": [
    {
     "name": "stdout",
     "output_type": "stream",
     "text": [
      "[06:26:28] INFO: C:/Users/Administrator/workspace/xgboost-win64_release_1.5.1/src/tree/updater_prune.cc:101: tree pruning end, 16274 extra nodes, 0 pruned nodes, max_depth=20\n",
      "[06:28:58] INFO: C:/Users/Administrator/workspace/xgboost-win64_release_1.5.1/src/tree/updater_prune.cc:101: tree pruning end, 19292 extra nodes, 0 pruned nodes, max_depth=20\n",
      "[06:31:08] INFO: C:/Users/Administrator/workspace/xgboost-win64_release_1.5.1/src/tree/updater_prune.cc:101: tree pruning end, 18294 extra nodes, 0 pruned nodes, max_depth=20\n",
      "[06:32:57] INFO: C:/Users/Administrator/workspace/xgboost-win64_release_1.5.1/src/tree/updater_prune.cc:101: tree pruning end, 15536 extra nodes, 0 pruned nodes, max_depth=20\n",
      "[06:34:25] INFO: C:/Users/Administrator/workspace/xgboost-win64_release_1.5.1/src/tree/updater_prune.cc:101: tree pruning end, 12958 extra nodes, 0 pruned nodes, max_depth=20\n",
      "[06:35:35] INFO: C:/Users/Administrator/workspace/xgboost-win64_release_1.5.1/src/tree/updater_prune.cc:101: tree pruning end, 10304 extra nodes, 0 pruned nodes, max_depth=20\n",
      "[06:36:27] INFO: C:/Users/Administrator/workspace/xgboost-win64_release_1.5.1/src/tree/updater_prune.cc:101: tree pruning end, 7868 extra nodes, 0 pruned nodes, max_depth=20\n",
      "[06:37:17] INFO: C:/Users/Administrator/workspace/xgboost-win64_release_1.5.1/src/tree/updater_prune.cc:101: tree pruning end, 6640 extra nodes, 0 pruned nodes, max_depth=20\n",
      "[06:37:56] INFO: C:/Users/Administrator/workspace/xgboost-win64_release_1.5.1/src/tree/updater_prune.cc:101: tree pruning end, 5246 extra nodes, 0 pruned nodes, max_depth=20\n",
      "[06:38:29] INFO: C:/Users/Administrator/workspace/xgboost-win64_release_1.5.1/src/tree/updater_prune.cc:101: tree pruning end, 4578 extra nodes, 0 pruned nodes, max_depth=20\n"
     ]
    },
    {
     "data": {
      "text/plain": [
       "array([2.5322014e+03, 1.3707391e+00, 1.8625356e+02, ..., 3.4886808e+00,\n",
       "       4.5413814e+00, 2.4844824e+02], dtype=float32)"
      ]
     },
     "execution_count": 30,
     "metadata": {},
     "output_type": "execute_result"
    }
   ],
   "source": [
    "from xgboost import XGBRegressor\n",
    "from sklearn.compose import ColumnTransformer\n",
    "from sklearn.preprocessing import OneHotEncoder\n",
    "\n",
    "# one-hot encode the categorical features\n",
    "cat_attribs = ['id','date','family']\n",
    "full_pipeline = ColumnTransformer([('cat', OneHotEncoder(handle_unknown='ignore'), cat_attribs)], remainder='passthrough')\n",
    "\n",
    "encoder = full_pipeline.fit(X_train)\n",
    "X_train = encoder.transform(X_train)\n",
    "X_test = encoder.transform(X_test)\n",
    "test=encoder.transform(test)\n",
    "# train the model\n",
    "model = XGBRegressor(n_estimators=10, max_depth=20, verbosity=2)\n",
    "model.fit(X_train, y_train)\n",
    "\n",
    "# extract the training set predictions\n",
    "model.predict(X_train)\n",
    "\n",
    "\n",
    "# extract the test set predictions\n",
    "model.predict(X_test)\n"
   ]
  },
  {
   "cell_type": "code",
   "execution_count": 31,
   "id": "39e167e4-68cc-411e-990f-0140bdb5fdc7",
   "metadata": {},
   "outputs": [
    {
     "data": {
      "text/plain": [
       "0.847088248806254"
      ]
     },
     "execution_count": 31,
     "metadata": {},
     "output_type": "execute_result"
    }
   ],
   "source": [
    "#accuracy\n",
    "model.score(X_test, y_test)\n"
   ]
  },
  {
   "cell_type": "code",
   "execution_count": 32,
   "id": "6cfb5efa-5e6b-4817-b58f-d3c22a02457b",
   "metadata": {},
   "outputs": [],
   "source": [
    "import pickle\n",
    "filename = 'finalized_model.sav'\n",
    "pickle.dump(model, open(filename, 'wb'))"
   ]
  },
  {
   "cell_type": "code",
   "execution_count": 36,
   "id": "32567b6c-6c63-4674-9528-6cb542de0cc9",
   "metadata": {},
   "outputs": [
    {
     "data": {
      "text/html": [
       "<div>\n",
       "<style scoped>\n",
       "    .dataframe tbody tr th:only-of-type {\n",
       "        vertical-align: middle;\n",
       "    }\n",
       "\n",
       "    .dataframe tbody tr th {\n",
       "        vertical-align: top;\n",
       "    }\n",
       "\n",
       "    .dataframe thead th {\n",
       "        text-align: right;\n",
       "    }\n",
       "</style>\n",
       "<table border=\"1\" class=\"dataframe\">\n",
       "  <thead>\n",
       "    <tr style=\"text-align: right;\">\n",
       "      <th></th>\n",
       "      <th>sales</th>\n",
       "    </tr>\n",
       "    <tr>\n",
       "      <th>id</th>\n",
       "      <th></th>\n",
       "    </tr>\n",
       "  </thead>\n",
       "  <tbody>\n",
       "    <tr>\n",
       "      <th>3000888</th>\n",
       "      <td>8.958672</td>\n",
       "    </tr>\n",
       "    <tr>\n",
       "      <th>3000889</th>\n",
       "      <td>8.958672</td>\n",
       "    </tr>\n",
       "    <tr>\n",
       "      <th>3000890</th>\n",
       "      <td>36.428967</td>\n",
       "    </tr>\n",
       "    <tr>\n",
       "      <th>3000891</th>\n",
       "      <td>2128.404541</td>\n",
       "    </tr>\n",
       "    <tr>\n",
       "      <th>3000892</th>\n",
       "      <td>8.958672</td>\n",
       "    </tr>\n",
       "    <tr>\n",
       "      <th>...</th>\n",
       "      <td>...</td>\n",
       "    </tr>\n",
       "    <tr>\n",
       "      <th>3029395</th>\n",
       "      <td>490.657837</td>\n",
       "    </tr>\n",
       "    <tr>\n",
       "      <th>3029396</th>\n",
       "      <td>78.221046</td>\n",
       "    </tr>\n",
       "    <tr>\n",
       "      <th>3029397</th>\n",
       "      <td>1403.536133</td>\n",
       "    </tr>\n",
       "    <tr>\n",
       "      <th>3029398</th>\n",
       "      <td>218.356613</td>\n",
       "    </tr>\n",
       "    <tr>\n",
       "      <th>3029399</th>\n",
       "      <td>21.504402</td>\n",
       "    </tr>\n",
       "  </tbody>\n",
       "</table>\n",
       "<p>28512 rows × 1 columns</p>\n",
       "</div>"
      ],
      "text/plain": [
       "               sales\n",
       "id                  \n",
       "3000888     8.958672\n",
       "3000889     8.958672\n",
       "3000890    36.428967\n",
       "3000891  2128.404541\n",
       "3000892     8.958672\n",
       "...              ...\n",
       "3029395   490.657837\n",
       "3029396    78.221046\n",
       "3029397  1403.536133\n",
       "3029398   218.356613\n",
       "3029399    21.504402\n",
       "\n",
       "[28512 rows x 1 columns]"
      ]
     },
     "execution_count": 36,
     "metadata": {},
     "output_type": "execute_result"
    }
   ],
   "source": [
    "pred1=model.predict(test)\n",
    "pred=pd.DataFrame(pred1)\n",
    "\n",
    "\n",
    "pred.rename(columns={0:'sales'},inplace=True)\n",
    "pred.index=copy['id']\n",
    "pred"
   ]
  },
  {
   "cell_type": "code",
   "execution_count": 37,
   "id": "0119045b-e3e9-4a5f-aa97-b1f11b292000",
   "metadata": {},
   "outputs": [],
   "source": [
    "pred.to_csv('submission.csv')"
   ]
  }
 ],
 "metadata": {
  "kernelspec": {
   "display_name": "Python 3",
   "language": "python",
   "name": "python3"
  },
  "language_info": {
   "codemirror_mode": {
    "name": "ipython",
    "version": 3
   },
   "file_extension": ".py",
   "mimetype": "text/x-python",
   "name": "python",
   "nbconvert_exporter": "python",
   "pygments_lexer": "ipython3",
   "version": "3.8.8"
  }
 },
 "nbformat": 4,
 "nbformat_minor": 5
}
